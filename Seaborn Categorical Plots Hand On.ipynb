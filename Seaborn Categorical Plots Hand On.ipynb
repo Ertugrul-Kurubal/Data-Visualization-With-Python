{
 "metadata": {
  "language_info": {
   "codemirror_mode": {
    "name": "ipython",
    "version": 3
   },
   "file_extension": ".py",
   "mimetype": "text/x-python",
   "name": "python",
   "nbconvert_exporter": "python",
   "pygments_lexer": "ipython3",
   "version": "3.9.0-final"
  },
  "orig_nbformat": 2,
  "kernelspec": {
   "name": "python3",
   "display_name": "Python 3.9.0 64-bit",
   "metadata": {
    "interpreter": {
     "hash": "43a9cd95aa030499ef934e4da31e07dde54f3fc3a1fd0cc4aeef7f16459ee2ac"
    }
   }
  }
 },
 "nbformat": 4,
 "nbformat_minor": 2,
 "cells": [
  {
   "cell_type": "code",
   "execution_count": 1,
   "metadata": {},
   "outputs": [],
   "source": [
    "import numpy as np \n",
    "import pandas as pd \n",
    "import matplotlib.pyplot as plt \n",
    "import seaborn as sns "
   ]
  },
  {
   "cell_type": "code",
   "execution_count": 2,
   "metadata": {},
   "outputs": [],
   "source": [
    "df = pd.read_csv(\"dm_office_sales.csv\")"
   ]
  },
  {
   "cell_type": "code",
   "execution_count": 3,
   "metadata": {},
   "outputs": [
    {
     "output_type": "execute_result",
     "data": {
      "text/plain": [
       "          division  level of education  training level  work experience  \\\n",
       "0         printers        some college               2                6   \n",
       "1         printers  associate's degree               2               10   \n",
       "2      peripherals         high school               0                9   \n",
       "3  office supplies  associate's degree               2                5   \n",
       "4  office supplies         high school               1                5   \n",
       "\n",
       "   salary   sales  \n",
       "0   91684  372302  \n",
       "1  119679  495660  \n",
       "2   82045  320453  \n",
       "3   92949  377148  \n",
       "4   71280  312802  "
      ],
      "text/html": "<div>\n<style scoped>\n    .dataframe tbody tr th:only-of-type {\n        vertical-align: middle;\n    }\n\n    .dataframe tbody tr th {\n        vertical-align: top;\n    }\n\n    .dataframe thead th {\n        text-align: right;\n    }\n</style>\n<table border=\"1\" class=\"dataframe\">\n  <thead>\n    <tr style=\"text-align: right;\">\n      <th></th>\n      <th>division</th>\n      <th>level of education</th>\n      <th>training level</th>\n      <th>work experience</th>\n      <th>salary</th>\n      <th>sales</th>\n    </tr>\n  </thead>\n  <tbody>\n    <tr>\n      <th>0</th>\n      <td>printers</td>\n      <td>some college</td>\n      <td>2</td>\n      <td>6</td>\n      <td>91684</td>\n      <td>372302</td>\n    </tr>\n    <tr>\n      <th>1</th>\n      <td>printers</td>\n      <td>associate's degree</td>\n      <td>2</td>\n      <td>10</td>\n      <td>119679</td>\n      <td>495660</td>\n    </tr>\n    <tr>\n      <th>2</th>\n      <td>peripherals</td>\n      <td>high school</td>\n      <td>0</td>\n      <td>9</td>\n      <td>82045</td>\n      <td>320453</td>\n    </tr>\n    <tr>\n      <th>3</th>\n      <td>office supplies</td>\n      <td>associate's degree</td>\n      <td>2</td>\n      <td>5</td>\n      <td>92949</td>\n      <td>377148</td>\n    </tr>\n    <tr>\n      <th>4</th>\n      <td>office supplies</td>\n      <td>high school</td>\n      <td>1</td>\n      <td>5</td>\n      <td>71280</td>\n      <td>312802</td>\n    </tr>\n  </tbody>\n</table>\n</div>"
     },
     "metadata": {},
     "execution_count": 3
    }
   ],
   "source": [
    "df.head()"
   ]
  },
  {
   "cell_type": "code",
   "execution_count": null,
   "metadata": {},
   "outputs": [],
   "source": []
  }
 ]
}